{
 "cells": [
  {
   "cell_type": "code",
   "execution_count": 56,
   "id": "8306cd6f-927f-47e1-a7ca-542fad6a5ebd",
   "metadata": {},
   "outputs": [],
   "source": [
    "from sklearn.datasets import fetch_california_housing\n",
    "import numpy as np\n",
    "import pandas as pd\n",
    "import matplotlib.pyplot as plt\n",
    "from IPython.display import display\n",
    "from sklearn.model_selection import train_test_split\n",
    "from sklearn.linear_model import LinearRegression\n",
    "from sklearn.linear_model import Ridge"
   ]
  },
  {
   "cell_type": "code",
   "execution_count": 28,
   "id": "248bd32b-7f3f-4fa9-aa1c-a296497ae9a2",
   "metadata": {},
   "outputs": [
    {
     "name": "stdout",
     "output_type": "stream",
     "text": [
      "housing.keys():\n",
      " dict_keys(['data', 'target', 'frame', 'target_names', 'feature_names', 'DESCR'])\n"
     ]
    }
   ],
   "source": [
    "housing = fetch_california_housing()\n",
    "print(\"housing.keys():\\n\", housing.keys())\n",
    "xTrain, xTest, yTrain, yTest = train_test_split(\n",
    "    housing.data, housing.target, random_state=66)\n",
    "lr = LinearRegression().fit(xTrain, yTrain)"
   ]
  },
  {
   "cell_type": "code",
   "execution_count": 29,
   "id": "edfa1dff-24bc-4be5-bdae-d6f221295511",
   "metadata": {},
   "outputs": [
    {
     "name": "stdout",
     "output_type": "stream",
     "text": [
      "Training set score: 0.60\n",
      "Test set score: 0.61\n"
     ]
    }
   ],
   "source": [
    "print(\"Training set score: {:.2f}\".format(lr.score(xTrain, yTrain)))\n",
    "print(\"Test set score: {:.2f}\".format(lr.score(xTest, yTest)))"
   ]
  },
  {
   "cell_type": "code",
   "execution_count": 35,
   "id": "7882a194-34cd-4063-aef9-37ac3b349ffc",
   "metadata": {},
   "outputs": [
    {
     "data": {
      "text/html": [
       "<div>\n",
       "<style scoped>\n",
       "    .dataframe tbody tr th:only-of-type {\n",
       "        vertical-align: middle;\n",
       "    }\n",
       "\n",
       "    .dataframe tbody tr th {\n",
       "        vertical-align: top;\n",
       "    }\n",
       "\n",
       "    .dataframe thead th {\n",
       "        text-align: right;\n",
       "    }\n",
       "</style>\n",
       "<table border=\"1\" class=\"dataframe\">\n",
       "  <thead>\n",
       "    <tr style=\"text-align: right;\">\n",
       "      <th></th>\n",
       "      <th>MedInc</th>\n",
       "      <th>HouseAge</th>\n",
       "      <th>AveRooms</th>\n",
       "      <th>AveBedrms</th>\n",
       "      <th>Population</th>\n",
       "      <th>AveOccup</th>\n",
       "      <th>Latitude</th>\n",
       "      <th>Longitude</th>\n",
       "    </tr>\n",
       "  </thead>\n",
       "  <tbody>\n",
       "    <tr>\n",
       "      <th>0</th>\n",
       "      <td>4.2260</td>\n",
       "      <td>52.0</td>\n",
       "      <td>5.011765</td>\n",
       "      <td>1.091176</td>\n",
       "      <td>663.0</td>\n",
       "      <td>1.950000</td>\n",
       "      <td>37.77</td>\n",
       "      <td>-122.26</td>\n",
       "    </tr>\n",
       "    <tr>\n",
       "      <th>1</th>\n",
       "      <td>4.2263</td>\n",
       "      <td>21.0</td>\n",
       "      <td>6.560694</td>\n",
       "      <td>1.080925</td>\n",
       "      <td>2834.0</td>\n",
       "      <td>3.276301</td>\n",
       "      <td>33.94</td>\n",
       "      <td>-117.53</td>\n",
       "    </tr>\n",
       "    <tr>\n",
       "      <th>2</th>\n",
       "      <td>1.8771</td>\n",
       "      <td>34.0</td>\n",
       "      <td>2.578351</td>\n",
       "      <td>1.079381</td>\n",
       "      <td>3326.0</td>\n",
       "      <td>3.428866</td>\n",
       "      <td>34.08</td>\n",
       "      <td>-118.30</td>\n",
       "    </tr>\n",
       "    <tr>\n",
       "      <th>3</th>\n",
       "      <td>3.3482</td>\n",
       "      <td>41.0</td>\n",
       "      <td>4.078947</td>\n",
       "      <td>1.052632</td>\n",
       "      <td>711.0</td>\n",
       "      <td>2.338816</td>\n",
       "      <td>34.03</td>\n",
       "      <td>-118.45</td>\n",
       "    </tr>\n",
       "    <tr>\n",
       "      <th>4</th>\n",
       "      <td>3.2120</td>\n",
       "      <td>13.0</td>\n",
       "      <td>5.660194</td>\n",
       "      <td>1.072816</td>\n",
       "      <td>1412.0</td>\n",
       "      <td>2.284790</td>\n",
       "      <td>33.04</td>\n",
       "      <td>-117.24</td>\n",
       "    </tr>\n",
       "    <tr>\n",
       "      <th>...</th>\n",
       "      <td>...</td>\n",
       "      <td>...</td>\n",
       "      <td>...</td>\n",
       "      <td>...</td>\n",
       "      <td>...</td>\n",
       "      <td>...</td>\n",
       "      <td>...</td>\n",
       "      <td>...</td>\n",
       "    </tr>\n",
       "    <tr>\n",
       "      <th>15475</th>\n",
       "      <td>6.2971</td>\n",
       "      <td>13.0</td>\n",
       "      <td>6.250000</td>\n",
       "      <td>1.006944</td>\n",
       "      <td>1799.0</td>\n",
       "      <td>3.123264</td>\n",
       "      <td>34.42</td>\n",
       "      <td>-118.43</td>\n",
       "    </tr>\n",
       "    <tr>\n",
       "      <th>15476</th>\n",
       "      <td>1.4329</td>\n",
       "      <td>21.0</td>\n",
       "      <td>3.057762</td>\n",
       "      <td>1.003610</td>\n",
       "      <td>1283.0</td>\n",
       "      <td>4.631769</td>\n",
       "      <td>33.93</td>\n",
       "      <td>-118.28</td>\n",
       "    </tr>\n",
       "    <tr>\n",
       "      <th>15477</th>\n",
       "      <td>7.4863</td>\n",
       "      <td>23.0</td>\n",
       "      <td>6.585023</td>\n",
       "      <td>1.046802</td>\n",
       "      <td>1782.0</td>\n",
       "      <td>2.780031</td>\n",
       "      <td>37.33</td>\n",
       "      <td>-122.03</td>\n",
       "    </tr>\n",
       "    <tr>\n",
       "      <th>15478</th>\n",
       "      <td>2.0769</td>\n",
       "      <td>17.0</td>\n",
       "      <td>3.941667</td>\n",
       "      <td>1.211111</td>\n",
       "      <td>1300.0</td>\n",
       "      <td>3.611111</td>\n",
       "      <td>33.78</td>\n",
       "      <td>-118.18</td>\n",
       "    </tr>\n",
       "    <tr>\n",
       "      <th>15479</th>\n",
       "      <td>1.7558</td>\n",
       "      <td>34.0</td>\n",
       "      <td>3.359431</td>\n",
       "      <td>1.047450</td>\n",
       "      <td>1594.0</td>\n",
       "      <td>1.890866</td>\n",
       "      <td>34.09</td>\n",
       "      <td>-118.36</td>\n",
       "    </tr>\n",
       "  </tbody>\n",
       "</table>\n",
       "<p>15480 rows × 8 columns</p>\n",
       "</div>"
      ],
      "text/plain": [
       "       MedInc  HouseAge  AveRooms  AveBedrms  Population  AveOccup  Latitude  \\\n",
       "0      4.2260      52.0  5.011765   1.091176       663.0  1.950000     37.77   \n",
       "1      4.2263      21.0  6.560694   1.080925      2834.0  3.276301     33.94   \n",
       "2      1.8771      34.0  2.578351   1.079381      3326.0  3.428866     34.08   \n",
       "3      3.3482      41.0  4.078947   1.052632       711.0  2.338816     34.03   \n",
       "4      3.2120      13.0  5.660194   1.072816      1412.0  2.284790     33.04   \n",
       "...       ...       ...       ...        ...         ...       ...       ...   \n",
       "15475  6.2971      13.0  6.250000   1.006944      1799.0  3.123264     34.42   \n",
       "15476  1.4329      21.0  3.057762   1.003610      1283.0  4.631769     33.93   \n",
       "15477  7.4863      23.0  6.585023   1.046802      1782.0  2.780031     37.33   \n",
       "15478  2.0769      17.0  3.941667   1.211111      1300.0  3.611111     33.78   \n",
       "15479  1.7558      34.0  3.359431   1.047450      1594.0  1.890866     34.09   \n",
       "\n",
       "       Longitude  \n",
       "0        -122.26  \n",
       "1        -117.53  \n",
       "2        -118.30  \n",
       "3        -118.45  \n",
       "4        -117.24  \n",
       "...          ...  \n",
       "15475    -118.43  \n",
       "15476    -118.28  \n",
       "15477    -122.03  \n",
       "15478    -118.18  \n",
       "15479    -118.36  \n",
       "\n",
       "[15480 rows x 8 columns]"
      ]
     },
     "metadata": {},
     "output_type": "display_data"
    },
    {
     "data": {
      "text/html": [
       "<div>\n",
       "<style scoped>\n",
       "    .dataframe tbody tr th:only-of-type {\n",
       "        vertical-align: middle;\n",
       "    }\n",
       "\n",
       "    .dataframe tbody tr th {\n",
       "        vertical-align: top;\n",
       "    }\n",
       "\n",
       "    .dataframe thead th {\n",
       "        text-align: right;\n",
       "    }\n",
       "</style>\n",
       "<table border=\"1\" class=\"dataframe\">\n",
       "  <thead>\n",
       "    <tr style=\"text-align: right;\">\n",
       "      <th></th>\n",
       "      <th>MedInc</th>\n",
       "      <th>HouseAge</th>\n",
       "      <th>AveRooms</th>\n",
       "      <th>AveBedrms</th>\n",
       "      <th>Population</th>\n",
       "      <th>AveOccup</th>\n",
       "      <th>Latitude</th>\n",
       "      <th>Longitude</th>\n",
       "    </tr>\n",
       "  </thead>\n",
       "  <tbody>\n",
       "    <tr>\n",
       "      <th>0</th>\n",
       "      <td>5.0629</td>\n",
       "      <td>23.0</td>\n",
       "      <td>5.738117</td>\n",
       "      <td>1.052190</td>\n",
       "      <td>2817.0</td>\n",
       "      <td>2.625349</td>\n",
       "      <td>33.84</td>\n",
       "      <td>-117.84</td>\n",
       "    </tr>\n",
       "    <tr>\n",
       "      <th>1</th>\n",
       "      <td>2.6343</td>\n",
       "      <td>14.0</td>\n",
       "      <td>4.696309</td>\n",
       "      <td>1.036913</td>\n",
       "      <td>2294.0</td>\n",
       "      <td>3.848993</td>\n",
       "      <td>37.73</td>\n",
       "      <td>-120.93</td>\n",
       "    </tr>\n",
       "    <tr>\n",
       "      <th>2</th>\n",
       "      <td>3.9118</td>\n",
       "      <td>46.0</td>\n",
       "      <td>4.868526</td>\n",
       "      <td>0.940239</td>\n",
       "      <td>819.0</td>\n",
       "      <td>3.262948</td>\n",
       "      <td>37.96</td>\n",
       "      <td>-122.33</td>\n",
       "    </tr>\n",
       "    <tr>\n",
       "      <th>3</th>\n",
       "      <td>3.5750</td>\n",
       "      <td>52.0</td>\n",
       "      <td>4.843505</td>\n",
       "      <td>1.067293</td>\n",
       "      <td>1269.0</td>\n",
       "      <td>1.985915</td>\n",
       "      <td>37.77</td>\n",
       "      <td>-122.45</td>\n",
       "    </tr>\n",
       "    <tr>\n",
       "      <th>4</th>\n",
       "      <td>3.9615</td>\n",
       "      <td>36.0</td>\n",
       "      <td>5.964602</td>\n",
       "      <td>1.004425</td>\n",
       "      <td>1192.0</td>\n",
       "      <td>2.637168</td>\n",
       "      <td>34.70</td>\n",
       "      <td>-118.15</td>\n",
       "    </tr>\n",
       "    <tr>\n",
       "      <th>...</th>\n",
       "      <td>...</td>\n",
       "      <td>...</td>\n",
       "      <td>...</td>\n",
       "      <td>...</td>\n",
       "      <td>...</td>\n",
       "      <td>...</td>\n",
       "      <td>...</td>\n",
       "      <td>...</td>\n",
       "    </tr>\n",
       "    <tr>\n",
       "      <th>5155</th>\n",
       "      <td>2.9519</td>\n",
       "      <td>43.0</td>\n",
       "      <td>4.189655</td>\n",
       "      <td>0.988506</td>\n",
       "      <td>935.0</td>\n",
       "      <td>5.373563</td>\n",
       "      <td>34.26</td>\n",
       "      <td>-118.43</td>\n",
       "    </tr>\n",
       "    <tr>\n",
       "      <th>5156</th>\n",
       "      <td>2.8750</td>\n",
       "      <td>44.0</td>\n",
       "      <td>5.393333</td>\n",
       "      <td>1.033333</td>\n",
       "      <td>667.0</td>\n",
       "      <td>2.223333</td>\n",
       "      <td>35.37</td>\n",
       "      <td>-119.04</td>\n",
       "    </tr>\n",
       "    <tr>\n",
       "      <th>5157</th>\n",
       "      <td>5.0479</td>\n",
       "      <td>22.0</td>\n",
       "      <td>5.135878</td>\n",
       "      <td>1.054962</td>\n",
       "      <td>3783.0</td>\n",
       "      <td>2.887786</td>\n",
       "      <td>37.63</td>\n",
       "      <td>-122.46</td>\n",
       "    </tr>\n",
       "    <tr>\n",
       "      <th>5158</th>\n",
       "      <td>2.8679</td>\n",
       "      <td>44.0</td>\n",
       "      <td>4.951555</td>\n",
       "      <td>1.145336</td>\n",
       "      <td>3269.0</td>\n",
       "      <td>2.363702</td>\n",
       "      <td>37.75</td>\n",
       "      <td>-122.40</td>\n",
       "    </tr>\n",
       "    <tr>\n",
       "      <th>5159</th>\n",
       "      <td>4.3849</td>\n",
       "      <td>36.0</td>\n",
       "      <td>5.567742</td>\n",
       "      <td>1.070968</td>\n",
       "      <td>1293.0</td>\n",
       "      <td>4.170968</td>\n",
       "      <td>33.93</td>\n",
       "      <td>-118.04</td>\n",
       "    </tr>\n",
       "  </tbody>\n",
       "</table>\n",
       "<p>5160 rows × 8 columns</p>\n",
       "</div>"
      ],
      "text/plain": [
       "      MedInc  HouseAge  AveRooms  AveBedrms  Population  AveOccup  Latitude  \\\n",
       "0     5.0629      23.0  5.738117   1.052190      2817.0  2.625349     33.84   \n",
       "1     2.6343      14.0  4.696309   1.036913      2294.0  3.848993     37.73   \n",
       "2     3.9118      46.0  4.868526   0.940239       819.0  3.262948     37.96   \n",
       "3     3.5750      52.0  4.843505   1.067293      1269.0  1.985915     37.77   \n",
       "4     3.9615      36.0  5.964602   1.004425      1192.0  2.637168     34.70   \n",
       "...      ...       ...       ...        ...         ...       ...       ...   \n",
       "5155  2.9519      43.0  4.189655   0.988506       935.0  5.373563     34.26   \n",
       "5156  2.8750      44.0  5.393333   1.033333       667.0  2.223333     35.37   \n",
       "5157  5.0479      22.0  5.135878   1.054962      3783.0  2.887786     37.63   \n",
       "5158  2.8679      44.0  4.951555   1.145336      3269.0  2.363702     37.75   \n",
       "5159  4.3849      36.0  5.567742   1.070968      1293.0  4.170968     33.93   \n",
       "\n",
       "      Longitude  \n",
       "0       -117.84  \n",
       "1       -120.93  \n",
       "2       -122.33  \n",
       "3       -122.45  \n",
       "4       -118.15  \n",
       "...         ...  \n",
       "5155    -118.43  \n",
       "5156    -119.04  \n",
       "5157    -122.46  \n",
       "5158    -122.40  \n",
       "5159    -118.04  \n",
       "\n",
       "[5160 rows x 8 columns]"
      ]
     },
     "metadata": {},
     "output_type": "display_data"
    }
   ],
   "source": [
    "ch_dataframe = pd.DataFrame(xTrain, columns=housing.feature_names)\n",
    "display(ch_dataframe)\n",
    "\n",
    "ch_dataframe = pd.DataFrame(xTest, columns=housing.feature_names)\n",
    "display(ch_dataframe)"
   ]
  },
  {
   "cell_type": "code",
   "execution_count": 31,
   "id": "e0b58540-418d-45ca-ba62-8debe4ad2406",
   "metadata": {},
   "outputs": [
    {
     "name": "stdout",
     "output_type": "stream",
     "text": [
      "Training set score: 0.6032623773\n",
      "Test set score: 0.6091382628\n"
     ]
    }
   ],
   "source": [
    "ridge = Ridge().fit(xTrain, yTrain)\n",
    "print(\"Training set score: {:.10f}\".format(ridge.score(xTrain, yTrain)))\n",
    "print(\"Test set score: {:.10f}\".format(ridge.score(xTest, yTest)))"
   ]
  },
  {
   "cell_type": "code",
   "execution_count": 48,
   "id": "1d643772-5e3a-4dcb-940b-ace7ae5a7a81",
   "metadata": {},
   "outputs": [
    {
     "name": "stdout",
     "output_type": "stream",
     "text": [
      "Training set score: 0.6032577625\n",
      "Test set score: 0.6091101576\n"
     ]
    }
   ],
   "source": [
    "ridge10 = Ridge(alpha=10).fit(xTrain, yTrain)\n",
    "print(\"Training set score: {:.10f}\".format(ridge10.score(xTrain, yTrain)))\n",
    "print(\"Test set score: {:.10f}\".format(ridge10.score(xTest, yTest)))"
   ]
  },
  {
   "cell_type": "code",
   "execution_count": 50,
   "id": "6200135b-0d40-4e19-bcb6-5cd189d7c133",
   "metadata": {},
   "outputs": [
    {
     "name": "stdout",
     "output_type": "stream",
     "text": [
      "Training set score: 0.60\n",
      "Test set score: 0.61\n"
     ]
    }
   ],
   "source": [
    "ridge01 = Ridge(alpha=0.1).fit(xTrain, yTrain)\n",
    "print(\"Training set score: {:.2f}\".format(ridge01.score(xTrain, yTrain)))\n",
    "print(\"Test set score: {:.2f}\".format(ridge01.score(xTest, yTest)))"
   ]
  },
  {
   "cell_type": "code",
   "execution_count": 61,
   "id": "c978b296-1dcd-4c3e-a98e-94e4fbbc3ecf",
   "metadata": {},
   "outputs": [
    {
     "data": {
      "text/plain": [
       "<matplotlib.legend.Legend at 0x7fd0bed98dc0>"
      ]
     },
     "execution_count": 61,
     "metadata": {},
     "output_type": "execute_result"
    },
    {
     "data": {
      "image/png": "[encoded data removed]",
      "text/plain": [
       "<Figure size 640x480 with 1 Axes>"
      ]
     },
     "metadata": {},
     "output_type": "display_data"
    }
   ],
   "source": [
    "plt.plot(ridge.coef_, 's', label=\"Ridge alpha=1\")\n",
    "plt.plot(ridge10.coef_, '^', label=\"Ridge alpha=10\")\n",
    "plt.plot(ridge01.coef_, 'v', label=\"Ridge alpha=0.1\")\n",
    "\n",
    "plt.plot(lr.coef_, 'o', label=\"LinearRegression\")\n",
    "plt.xlabel(\"Coefficient index\")\n",
    "plt.ylabel(\"Coefficient magnitude\")\n",
    "xlims = plt.xlim()\n",
    "plt.hlines(0, xlims[0], xlims[1])\n",
    "plt.xlim(xlims)\n",
    "plt.ylim(-1, 1)\n",
    "plt.legend()"
   ]
  },
  {
   "cell_type": "code",
   "execution_count": 63,
   "id": "720ed4c9-8536-4b0c-ae91-cd7122c310d0",
   "metadata": {},
   "outputs": [
    {
     "name": "stdout",
     "output_type": "stream",
     "text": [
      "Training set score: 0.27\n",
      "Test set score: 0.29\n",
      "Number of features used: 3\n"
     ]
    }
   ],
   "source": [
    "from sklearn.linear_model import Lasso\n",
    "\n",
    "lasso = Lasso().fit(xTrain, yTrain)\n",
    "print(\"Training set score: {:.2f}\".format(lasso.score(xTrain, yTrain)))\n",
    "print(\"Test set score: {:.2f}\".format(lasso.score(xTest, yTest)))\n",
    "print(\"Number of features used:\", np.sum(lasso.coef_ != 0))"
   ]
  },
  {
   "cell_type": "code",
   "execution_count": 73,
   "id": "562ad3b9-6144-4021-8477-7da213f1b069",
   "metadata": {},
   "outputs": [
    {
     "name": "stdout",
     "output_type": "stream",
     "text": [
      "Training set score: 0.60\n",
      "Test set score: 0.61\n",
      "Number of features used: 8\n"
     ]
    }
   ],
   "source": [
    "# we increase the default setting of \"max_iter\",\n",
    "# otherwise the model would warn us that we should increase max_iter.\n",
    "lasso001 = Lasso(alpha=0.01, max_iter=100000).fit(xTrain, yTrain)\n",
    "print(\"Training set score: {:.2f}\".format(lasso001.score(xTrain, yTrain)))\n",
    "print(\"Test set score: {:.2f}\".format(lasso001.score(xTest, yTest)))\n",
    "print(\"Number of features used:\", np.sum(lasso001.coef_ != 0))"
   ]
  },
  {
   "cell_type": "code",
   "execution_count": null,
   "id": "d6d9ca64-5617-40bd-84ab-0a2ac01ce9c5",
   "metadata": {},
   "outputs": [],
   "source": []
  }
 ],
 "metadata": {
  "kernelspec": {
   "display_name": "Python 3 (ipykernel)",
   "language": "python",
   "name": "python3"
  },
  "language_info": {
   "codemirror_mode": {
    "name": "ipython",
    "version": 3
   },
   "file_extension": ".py",
   "mimetype": "text/x-python",
   "name": "python",
   "nbconvert_exporter": "python",
   "pygments_lexer": "ipython3",
   "version": "3.10.9"
  }
 },
 "nbformat": 4,
 "nbformat_minor": 5
}
